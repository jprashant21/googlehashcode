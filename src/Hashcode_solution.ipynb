{
 "cells": [
  {
   "cell_type": "code",
   "execution_count": 126,
   "metadata": {},
   "outputs": [],
   "source": [
    "import pandas as pd\n",
    "import numpy as np\n",
    "import pulp as pulp\n",
    "import time,os"
   ]
  },
  {
   "cell_type": "markdown",
   "metadata": {},
   "source": [
    "## Read File contents"
   ]
  },
  {
   "cell_type": "code",
   "execution_count": 131,
   "metadata": {},
   "outputs": [
    {
     "name": "stdout",
     "output_type": "stream",
     "text": [
      "File read successfully !!! File contents :\n",
      "\n",
      "Print complete solution logs: False\n",
      "\n",
      "========== INFORMATION FROM THE FILE ===========\n",
      "\n",
      "Types of pizzas available (N): 50\n",
      "Number of Slices per pizza (X): [  7  12  12  13  14  28  29  29  30  32  32  34  41  45  46  56  61  61\n",
      "  62  63  65  68  76  77  77  92  93  94  97 103 113 114 114 120 135 145\n",
      " 145 149 156 157 160 169 172 179 184 185 189 194 195 195]\n",
      "\n",
      "Max pizza pieces to be distributed (M): 4500\n",
      "Sum of pizza pieces available : 4719\n"
     ]
    }
   ],
   "source": [
    "filename = \"a_example.in\"\n",
    "#filename = \"b_small.in\"\n",
    "filename = \"c_medium.in\"\n",
    "#filename = \"d_quite_big.in\"\n",
    "#filename = \"e_also_big.in\"\n",
    "verbose = 0\n",
    "\n",
    "#read file contents\n",
    "f= open(filename,\"r\")\n",
    "contents = f.read()\n",
    "print(\"File read successfully !!! File contents :\\n\")\n",
    "print(\"Print complete solution logs:\",bool(verbose))\n",
    "\n",
    "#extract line-wise information\n",
    "line1=contents.split('\\n')[0]\n",
    "line2=contents.split('\\n')[-2]\n",
    "#print(\"line 1: \",line1)\n",
    "#print(\"line 2: \",line2)\n",
    "\n",
    "max_pizza_pieces = int(line1.split(' ')[0])\n",
    "pizza_types = int(line1.split(' ')[1])\n",
    "slices_per_pizza = [int(x) for x in line2.split(' ')]\n",
    "slices_per_pizza = np.array(slices_per_pizza)\n",
    "\n",
    "assert pizza_types == len(slices_per_pizza)\n",
    "print(\"\\n========== INFORMATION FROM THE FILE ===========\\n\")\n",
    "print(\"Types of pizzas available (N):\",pizza_types)\n",
    "print(\"Number of Slices per pizza (X):\",slices_per_pizza)\n",
    "print(\"\\nMax pizza pieces to be distributed (M):\",max_pizza_pieces)\n",
    "print(\"Sum of pizza pieces available :\",np.sum(slices_per_pizza))"
   ]
  },
  {
   "cell_type": "markdown",
   "metadata": {},
   "source": [
    "## Linear Optimization"
   ]
  },
  {
   "cell_type": "code",
   "execution_count": 137,
   "metadata": {
    "scrolled": false
   },
   "outputs": [
    {
     "name": "stdout",
     "output_type": "stream",
     "text": [
      "Solving the optmization problem now...\n",
      "Problem Solved !!!\n",
      "Time taken : 0.04355978965759277 sec\n",
      "\n",
      "==============  Submission Solution  ==============\n",
      "\n",
      "[Problem] Max pizza pieces to be distributed (M): 4500\n",
      "[Problem] Types of pizzas available (N): 50 \n",
      "\n",
      "[Solution] Maximized value of pizza pieces : 4500.0\n",
      "[Solution] Number of pizza types required: 44\n",
      "[Solution] Ordering pizza types:\n",
      "0 1 2 4 5 6 7 8 11 14 16 17 18 19 20 21 22 23 24 25 26 27 28 29 30 31 32 33 34 35 36 37 38 39 40 41 42 43 44 45 46 47 48 49\n",
      "\n",
      "The submission solution has been saved into file 'sol_c_medium.in' in this directory 'E:\\Projects\\GoogleHashcode'.\n"
     ]
    }
   ],
   "source": [
    "my_lp_problem = pulp.LpProblem(\"Pizza_Pieces_Optimization\", pulp.LpMaximize)\n",
    "\n",
    "# Definition of decision variables\n",
    "X = slices_per_pizza\n",
    "Y =  [None]*pizza_types\n",
    "M = max_pizza_pieces\n",
    "\n",
    "for i in range(len(Y)):\n",
    "    var_name=\"y\"+str(i)\n",
    "    Y[i] = pulp.LpVariable(var_name, lowBound=0, upBound=1, cat='Binary')\n",
    "\n",
    "##### FORMULATION #####\n",
    "# Objective function\n",
    "my_lp_problem += np.dot(X,Y), \"Z\"\n",
    "\n",
    "# Constraints\n",
    "my_lp_problem += np.dot(X,Y) <= M\n",
    "if verbose==1:\n",
    "    print(\"\\n============== LP Problem Formulation ============\\n\")\n",
    "    print(my_lp_problem)\n",
    "print(\"Solving the optmization problem now...\")\n",
    "start_time=time.time()\n",
    "my_lp_problem.solve()\n",
    "if pulp.LpStatus[my_lp_problem.status]=='Optimal':\n",
    "    print(\"Problem Solved !!!\")\n",
    "    print(\"Time taken :\",time.time()-start_time,\"sec\")\n",
    "    if verbose==1:\n",
    "        print(\"Solution variables:\")\n",
    "        for variable in my_lp_problem.variables():\n",
    "            print(\"{} = {}\".format(variable.name, variable.varValue))\n",
    "    \n",
    "    sol_pizza_types=[int(variable.name[1:]) for variable in my_lp_problem.variables() if variable.varValue == 1]\n",
    "    sorted_types = sorted(sol_pizza_types)\n",
    "    print(\"\\n==============  Submission Solution  ==============\\n\")\n",
    "    print(\"[Problem] Max pizza pieces to be distributed (M):\",max_pizza_pieces)\n",
    "    print(\"[Problem] Types of pizzas available (N):\",pizza_types,\"\\n\")\n",
    "    print(\"[Solution] Maximized value of pizza pieces :\",pulp.value(my_lp_problem.objective))\n",
    "    print(\"[Solution] Number of pizza types required:\", len(sorted_types))\n",
    "    print(\"[Solution] Ordering pizza types:\")\n",
    "    print(' '.join(map(str,sorted_types)))\n",
    "    sol_filename = \"sol_\"+filename\n",
    "    f1=open(sol_filename, 'w+')\n",
    "    f1.write(str(len(sorted_types)))\n",
    "    f1.write(\"\\n\")\n",
    "    f1.write(' '.join(map(str,sorted_types)))\n",
    "    f1.close()\n",
    "    print(\"\\nThe submission solution has been saved into file '{}' in this directory '{}'.\".format(sol_filename,os.getcwd()))\n",
    "else:\n",
    "    print(\"Solution could not be found !!!\")"
   ]
  },
  {
   "cell_type": "code",
   "execution_count": null,
   "metadata": {},
   "outputs": [],
   "source": []
  }
 ],
 "metadata": {
  "kernelspec": {
   "display_name": "Python 3",
   "language": "python",
   "name": "python3"
  },
  "language_info": {
   "codemirror_mode": {
    "name": "ipython",
    "version": 3
   },
   "file_extension": ".py",
   "mimetype": "text/x-python",
   "name": "python",
   "nbconvert_exporter": "python",
   "pygments_lexer": "ipython3",
   "version": "3.7.4"
  }
 },
 "nbformat": 4,
 "nbformat_minor": 2
}
